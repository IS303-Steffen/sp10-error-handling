{
 "cells": [
  {
   "cell_type": "markdown",
   "id": "b3765144",
   "metadata": {},
   "source": [
    "\n",
    "# Review with AI: Error Handling\n",
    "\n",
    "Use this notebook to reinforce your understanding of how Python handles exceptions using `try` and `except` blocks.\n",
    "\n",
    "### How to use this notebook:\n",
    "- **Copy and paste** the provided prompts and questions into your preferred AI tool (such as ChatGPT or Copilot).\n",
    "- **Check your understanding** by explaining concepts in your own words and having AI provide feedback or corrections.\n",
    "- **Generate a practice problem** using the prompt below and try solving it on your own.\n"
   ]
  },
  {
   "cell_type": "markdown",
   "id": "5b18c826",
   "metadata": {},
   "source": [
    "\n",
    "## AI Setup Prompt\n",
    "\n",
    "Start by pasting this into your AI to guide the interaction:\n",
    "\n",
    "```\n",
    "I am a beginner in an introductory Python programming course. When I ask questions or describe a concept, please respond as my tutor by explaining in simple, easy-to-understand language. Correct any mistakes I make and help clarify misconceptions. You can use examples or metaphors when helpful. Let me know if my understanding is correct or where I might be going wrong.\n",
    "```\n"
   ]
  },
  {
   "cell_type": "markdown",
   "id": "abaa7eca",
   "metadata": {},
   "source": [
    "\n",
    "## Questions to Review Concepts\n",
    "\n",
    "Ask your AI tutor these questions to strengthen your understanding of exception handling:\n",
    "\n",
    "- What is the difference between an exception and an error? Are they the same?\n",
    "- When using `try/except`, what happens to the flow of the code when an error occurs?\n",
    "- How can I use `try/except` in a loop to keep prompting the user until valid input is entered?\n",
    "- What happens if I nest `try/except` blocks?\n",
    "- Can I have multiple `except` statements for one `try` block? When would that be helpful?\n",
    "- When should I use defensive programming instead of exception handling? Can I use both?\n"
   ]
  },
  {
   "cell_type": "markdown",
   "id": "22f8e33b",
   "metadata": {},
   "source": [
    "\n",
    "## Check Your Understanding\n",
    "\n",
    "Explain these ideas in your own words and have the AI check for accuracy:\n",
    "\n",
    "- What happens when an error occurs inside a `try` block?\n",
    "- What’s the difference between catching all exceptions and catching a specific one?\n",
    "- Why might I want to catch different exceptions separately?\n"
   ]
  },
  {
   "cell_type": "markdown",
   "id": "a335953f",
   "metadata": {},
   "source": [
    "\n",
    "## Generate Your Own Practice Question\n",
    "\n",
    "Use the prompt below to have AI generate a beginner-level exception handling problem for you. Try solving it on your own before asking for help.\n",
    "\n",
    "```\n",
    "I am a beginning python student in an intro course that is learning coding for the first time. I want you to create a practice problem for me handling exceptions. So far, I've learned how to create variables, getting inputs, some popular built-in functions, if statements, some basic for and while loops, lists, dictionaries, and writing custom functions. The problem you make doesn't have to use all those things (in fact, I'd prefer that it doesn't just so it isn't too hard), I just want to give you con...\n",
    "```\n"
   ]
  }
 ],
 "metadata": {
  "language_info": {
   "name": "python"
  }
 },
 "nbformat": 4,
 "nbformat_minor": 5
}
